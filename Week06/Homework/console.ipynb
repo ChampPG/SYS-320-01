{
 "cells": [
  {
   "cell_type": "markdown",
   "metadata": {},
   "source": [
    "## What Python module **contains** the function to see if a file exists?\n",
    "OS\n",
    "\n",
    "## What is the function **within the module** that checks to see if the file exists?\n",
    "is_file()\n",
    "\n",
    "## What Python module **contains** the function to remove a file?\n",
    "OS\n",
    "\n",
    "## What is the function **within the module** that removes the file?\n",
    "remove()\n",
    "\n",
    "## What standard Python function is used to take **input** from a user prompt?\n",
    "input()\n"
   ]
  },
  {
   "cell_type": "code",
   "execution_count": 35,
   "metadata": {},
   "outputs": [],
   "source": [
    "import paramiko, os, sys\n",
    "from getpass import getpass\n",
    "\n",
    "if os.path.exists('timeline.body'):\n",
    "    usrinput = input(\"Would you like to delete this file? (Y/N) \")\n",
    "    if usrinput == \"Y\" or usrinput == \"y\":\n",
    "        os.remove(\"timeline.body\")\n",
    "\n",
    "# Create the passwd prompt\n",
    "thePass = getpass(prompt=\"Please enter your SSH Password: \")\n",
    "\n",
    "# Host Information\n",
    "host = \"10.20.0.67\"\n",
    "port = 22\n",
    "username = \"root\"\n",
    "password = thePass\n",
    "\n",
    "try:\n",
    "    ssh = paramiko.SSHClient()\n",
    "    ssh.set_missing_host_key_policy(paramiko.AutoAddPolicy)\n",
    "    ssh.connect(host, port, username, password)\n",
    "\n",
    "except paramiko.AuthenticationException:\n",
    "    print(\"Authentication Failed\")"
   ]
  },
  {
   "cell_type": "code",
   "execution_count": 36,
   "metadata": {},
   "outputs": [],
   "source": [
    "import yaml\n",
    "\n",
    "try:\n",
    "    with open('commands.yaml', 'r', errors='ignore') as yf:\n",
    "        keywords = yaml.safe_load(yf)\n",
    "except EnvironmentError as e:\n",
    "    print(e.strerror)\n",
    "\n",
    "service = input(\"blind_files, system, netowrking, user_accounts, users_information, credentials, configs, distro, packages, sources, important_files: \")\n",
    "\n",
    "terms = keywords[service]\n",
    "\n",
    "# Split terms to make listOfKeywords\n",
    "cmds = terms.split(\", \")\n",
    "\n",
    "for command in cmds:\n",
    "    # Get the outpt form the command\n",
    "    stdin, stdout, stderr = ssh.exec_command(command)\n",
    "\n",
    "    # Get results from stdout\n",
    "    lines = stdout.readlines()\n",
    "    # print(lines)\n",
    "\n",
    "    # Cover the list to a string\n",
    "    output = ''.join(lines)\n",
    "\n",
    "    # Header output\n",
    "    sepHeader = '' + '### BEGIN ' + command + ' ###\\n\\n'\n",
    "    # Footer\n",
    "    sepFooter = '' + '### END ' + command + ' ###\\n\\n'\n",
    "\n",
    "    # Concatenate the header, output, and footer\n",
    "    cmd_output = sepHeader + output + sepFooter\n",
    "\n",
    "    # Sace the cmd_output to a file\n",
    "    # a is append mode\n",
    "    with open('ssh_results.txt', 'a') as f:\n",
    "        f.write(cmd_output)\n"
   ]
  },
  {
   "cell_type": "code",
   "execution_count": 37,
   "metadata": {},
   "outputs": [],
   "source": [
    "sftp = ssh.open_sftp()\n",
    "\n",
    "sftp.put('fs.py', 'fs.py')\n",
    "\n",
    "dir = '/usr/bin'\n",
    "\n",
    "ssh.exec_command(\"python ./fs.py \"+ dir)\n",
    "\n",
    "sftp.get('timeline.body', 'timeline.body')"
   ]
  },
  {
   "cell_type": "code",
   "execution_count": 38,
   "metadata": {},
   "outputs": [],
   "source": [
    "ssh.close()"
   ]
  },
  {
   "cell_type": "markdown",
   "metadata": {},
   "source": [
    "## What did you like the most and least about this assignment?\n",
    "I really enjoyed this lab combined with week 4 and were able to see how to remotely exicute a script.\n",
    "## What additional questions do you have?\n",
    "N/A"
   ]
  }
 ],
 "metadata": {
  "kernelspec": {
   "display_name": "Python 3.10.6 64-bit",
   "language": "python",
   "name": "python3"
  },
  "language_info": {
   "codemirror_mode": {
    "name": "ipython",
    "version": 3
   },
   "file_extension": ".py",
   "mimetype": "text/x-python",
   "name": "python",
   "nbconvert_exporter": "python",
   "pygments_lexer": "ipython3",
   "version": "3.10.6"
  },
  "orig_nbformat": 4,
  "vscode": {
   "interpreter": {
    "hash": "26de051ba29f2982a8de78e945f0abaf191376122a1563185a90213a26c5da77"
   }
  }
 },
 "nbformat": 4,
 "nbformat_minor": 2
}
