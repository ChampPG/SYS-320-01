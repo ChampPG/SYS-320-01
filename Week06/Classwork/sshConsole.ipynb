{
 "cells": [
  {
   "cell_type": "code",
   "execution_count": 1,
   "metadata": {},
   "outputs": [],
   "source": [
    "import paramiko\n",
    "from getpass import getpass\n",
    "\n",
    "# Create the passwd prompt\n",
    "thePass = getpass(prompt=\"Please enter your SSH Password: \")\n",
    "\n",
    "\n",
    "# Host Information\n",
    "host = \"10.5.0.178\"\n",
    "port = 22\n",
    "username = \"bruh\"\n",
    "password = thePass\n",
    "\n",
    "try:\n",
    "    ssh = paramiko.SSHClient()\n",
    "    ssh.set_missing_host_key_policy(paramiko.AutoAddPolicy)\n",
    "    ssh.connect(host, port, username, password)\n",
    "\n",
    "except paramiko.AuthenticationException:\n",
    "    print(\"Authentication Failed\")"
   ]
  },
  {
   "cell_type": "code",
   "execution_count": 2,
   "metadata": {},
   "outputs": [],
   "source": [
    "# Run a single run a comand\n",
    "# command = \"ps -ef\"\n",
    "\n",
    "# Run a list of commands\n",
    "commands = ['ps -ef', 'netstat -an --inet', 'last adx', 'cut -d: -f1 /etc/passwd']\n",
    "\n",
    "for command in commands:\n",
    "    # Get the outpt form the command\n",
    "    stdin, stdout, stderr = ssh.exec_command(command)\n",
    "\n",
    "    # Get results from stdout\n",
    "    lines = stdout.readlines()\n",
    "    # print(lines)\n",
    "\n",
    "    # Cover the list to a string\n",
    "    output = ''.join(lines)\n",
    "\n",
    "    # Header output\n",
    "    sepHeader = '' + '### BEGIN ' + command + ' ###\\n\\n'\n",
    "    # Footer\n",
    "    sepFooter = '' + '### END ' + command + ' ###\\n\\n'\n",
    "\n",
    "    # Concatenate the header, output, and footer\n",
    "    cmd_output = sepHeader + output + sepFooter\n",
    "\n",
    "    # Sace the cmd_output to a file\n",
    "    # a is append mode\n",
    "    with open('ssh_results.txt', 'a') as f:\n",
    "        f.write(cmd_output)\n",
    "\n",
    "ssh.close()"
   ]
  }
 ],
 "metadata": {
  "kernelspec": {
   "display_name": "Python 3.10.7 64-bit (microsoft store)",
   "language": "python",
   "name": "python3"
  },
  "language_info": {
   "codemirror_mode": {
    "name": "ipython",
    "version": 3
   },
   "file_extension": ".py",
   "mimetype": "text/x-python",
   "name": "python",
   "nbconvert_exporter": "python",
   "pygments_lexer": "ipython3",
   "version": "3.10.7"
  },
  "orig_nbformat": 4,
  "vscode": {
   "interpreter": {
    "hash": "fafe791920992b74a6801be65f7674af40ddff58de069966813ad4a23c9badb5"
   }
  }
 },
 "nbformat": 4,
 "nbformat_minor": 2
}
