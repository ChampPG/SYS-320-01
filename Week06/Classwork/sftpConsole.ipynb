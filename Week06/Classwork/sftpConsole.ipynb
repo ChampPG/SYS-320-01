{
 "cells": [
  {
   "cell_type": "code",
   "execution_count": 24,
   "metadata": {},
   "outputs": [],
   "source": [
    "import paramiko\n",
    "from getpass import getpass\n",
    "\n",
    "# Create the passwd prompt\n",
    "thePass = getpass(prompt=\"Please enter your SSH Password: \")\n",
    "\n",
    "\n",
    "# Host Information\n",
    "host = \"10.5.0.178\"\n",
    "port = 22\n",
    "username = \"bruh\"\n",
    "password = thePass\n",
    "\n",
    "try:\n",
    "    ssh = paramiko.SSHClient()\n",
    "    ssh.set_missing_host_key_policy(paramiko.AutoAddPolicy)\n",
    "    ssh.connect(host, port, username, password)\n",
    "\n",
    "except paramiko.AuthenticationException:\n",
    "    print(\"Authentication Failed\")"
   ]
  },
  {
   "cell_type": "code",
   "execution_count": 25,
   "metadata": {},
   "outputs": [
    {
     "name": "stdout",
     "output_type": "stream",
     "text": [
      "./remote_Files/hosts\n",
      "./remote_Files/passwd\n",
      "./remote_Files/interfaces\n"
     ]
    },
    {
     "data": {
      "text/plain": [
       "<bound method SSHClient.close of <paramiko.client.SSHClient object at 0x0000017949D5A6E0>>"
      ]
     },
     "execution_count": 25,
     "metadata": {},
     "output_type": "execute_result"
    }
   ],
   "source": [
    "# Start SFTP session\n",
    "sftp = ssh.open_sftp()\n",
    "\n",
    "# List of file to download\n",
    "files = ['/etc/hosts','/etc/passwd','/etc/network/interfaces']\n",
    "\n",
    "# Loop through the files and download them.\n",
    "for eachFile in files:\n",
    "\n",
    "    # Create a list from the filename\n",
    "    x = eachFile.split(\"/\")\n",
    "\n",
    "    # -1 is used to plug the last element in the list\n",
    "    filename = x[-1]\n",
    "\n",
    "    # Local path to store files\n",
    "    local_path = './remote_Files/' + filename\n",
    "\n",
    "    print(local_path)\n",
    "    sftp.get(eachFile, local_path)\n",
    "    # sftp.put(LOCALFILE,REMOTEFILE)\n",
    "\n",
    "ssh.close"
   ]
  }
 ],
 "metadata": {
  "kernelspec": {
   "display_name": "Python 3.10.7 64-bit (microsoft store)",
   "language": "python",
   "name": "python3"
  },
  "language_info": {
   "codemirror_mode": {
    "name": "ipython",
    "version": 3
   },
   "file_extension": ".py",
   "mimetype": "text/x-python",
   "name": "python",
   "nbconvert_exporter": "python",
   "pygments_lexer": "ipython3",
   "version": "3.10.7"
  },
  "orig_nbformat": 4,
  "vscode": {
   "interpreter": {
    "hash": "fafe791920992b74a6801be65f7674af40ddff58de069966813ad4a23c9badb5"
   }
  }
 },
 "nbformat": 4,
 "nbformat_minor": 2
}
