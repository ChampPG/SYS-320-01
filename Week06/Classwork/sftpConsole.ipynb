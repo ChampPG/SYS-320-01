{
 "cells": [
  {
   "cell_type": "code",
   "execution_count": 3,
   "metadata": {},
   "outputs": [],
   "source": [
    "import paramiko\n",
    "from getpass import getpass\n",
    "\n",
    "# Create the passwd prompt\n",
    "thePass = getpass(prompt=\"Please enter your SSH Password: \")\n",
    "\n",
    "\n",
    "# Host Information\n",
    "host = \"10.20.0.67\"\n",
    "port = 22\n",
    "username = \"root\"\n",
    "password = thePass\n",
    "\n",
    "try:\n",
    "    ssh = paramiko.SSHClient()\n",
    "    ssh.set_missing_host_key_policy(paramiko.AutoAddPolicy)\n",
    "    ssh.connect(host, port, username, password)\n",
    "\n",
    "except paramiko.AuthenticationException:\n",
    "    print(\"Authentication Failed\")"
   ]
  },
  {
   "cell_type": "code",
   "execution_count": 4,
   "metadata": {},
   "outputs": [
    {
     "name": "stdout",
     "output_type": "stream",
     "text": [
      "./remote_Files/hosts\n",
      "./remote_Files/passwd\n",
      "./remote_Files/interfaces\n"
     ]
    },
    {
     "data": {
      "text/plain": [
       "<bound method SSHClient.close of <paramiko.client.SSHClient object at 0x00000277AEF67F10>>"
      ]
     },
     "execution_count": 4,
     "metadata": {},
     "output_type": "execute_result"
    }
   ],
   "source": [
    "# Start SFTP session\n",
    "sftp = ssh.open_sftp()\n",
    "\n",
    "# List of file to download\n",
    "files = ['/etc/hosts','/etc/passwd','/etc/network/interfaces']\n",
    "\n",
    "# Loop through the files and download them.\n",
    "for eachFile in files:\n",
    "\n",
    "    # Create a list from the filename\n",
    "    x = eachFile.split(\"/\")\n",
    "\n",
    "    # -1 is used to plug the last element in the list\n",
    "    filename = x[-1]\n",
    "\n",
    "    # Local path to store files\n",
    "    local_path = './remote_Files/' + filename\n",
    "\n",
    "    print(local_path)\n",
    "    sftp.get(eachFile, local_path)\n",
    "    # sftp.put(LOCALFILE,REMOTEFILE)\n",
    "\n",
    "ssh.close"
   ]
  }
 ],
 "metadata": {
  "kernelspec": {
   "display_name": "Python 3.10.7 64-bit (microsoft store)",
   "language": "python",
   "name": "python3"
  },
  "language_info": {
   "codemirror_mode": {
    "name": "ipython",
    "version": 3
   },
   "file_extension": ".py",
   "mimetype": "text/x-python",
   "name": "python",
   "nbconvert_exporter": "python",
   "pygments_lexer": "ipython3",
   "version": "3.10.8"
  },
  "orig_nbformat": 4,
  "vscode": {
   "interpreter": {
    "hash": "f6a356b385419397ca6e99785919c9328feaa3d12198a6d48b23342ebdf78beb"
   }
  }
 },
 "nbformat": 4,
 "nbformat_minor": 2
}
