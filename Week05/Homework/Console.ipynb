{
 "cells": [
  {
   "cell_type": "code",
   "execution_count": null,
   "metadata": {},
   "outputs": [],
   "source": []
  },
  {
   "cell_type": "markdown",
   "metadata": {},
   "source": [
    "Code is run as a command-line tool\n",
    "\n",
    "Questions:\n",
    "Pick out 1 line of output from your results for each of the three attacks outlined below and explain why it is suspicious?\n",
    "- Term: .*Security Packages.*\n",
    "  Line: C:\\Windows\\System32\\reg.exe ADD HKLM\\SYSTEM\\CurrentControlSet\\Control\\Lsa /v Security Packages /t REG_expand_SZ /d C:\\Windows\\System32\\lsacc.dll | 0004FXGWS | reg.exe | C:\\Windows\\System32\\reg.exe | 5980\n",
    "  This line is suspicious because Lsa has to deal with secure boot / uefi. From reading the documentation it seems that if Lsa were to be manipulated someone could load unsigned drivers/plug-ins without the users knowledge\n",
    "  https://learn.microsoft.com/en-us/windows-server/security/credentials-protection-and-management/configuring-additional-lsa-protection \n",
    "\n",
    "What did you like the most and least about this assignment?\n",
    "- I liked rethinking the way I did the fs.py to make the cleanerfs.py and was able to learn more about dictReader\n",
    "\n",
    "What additional questions do you have?\n",
    "- N/A"
   ]
  }
 ],
 "metadata": {
  "kernelspec": {
   "display_name": "Python 3.10.7 64-bit",
   "language": "python",
   "name": "python3"
  },
  "language_info": {
   "name": "python",
   "version": "3.10.7"
  },
  "orig_nbformat": 4,
  "vscode": {
   "interpreter": {
    "hash": "dd39c3fd07fa92013742f79cd1475ef45b8d3a41d6ca16322ed0d48f849c1739"
   }
  }
 },
 "nbformat": 4,
 "nbformat_minor": 2
}
