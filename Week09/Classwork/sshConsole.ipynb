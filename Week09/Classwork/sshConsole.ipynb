{
 "cells": [
  {
   "cell_type": "markdown",
   "metadata": {},
   "source": [
    "## Make connection"
   ]
  },
  {
   "cell_type": "code",
   "execution_count": 1,
   "metadata": {},
   "outputs": [],
   "source": [
    "import paramiko, os, re\n",
    "from getpass import getpass\n",
    "\n",
    "# Create the passwd prompt\n",
    "thePass = getpass(prompt=\"Please enter your SSH Password: \")\n",
    "\n",
    "\n",
    "# Host Information\n",
    "host = \"192.168.6.71\"\n",
    "port = 2222\n",
    "username = \"paul.gleason\"\n",
    "password = thePass\n",
    "\n",
    "try:\n",
    "    ssh = paramiko.SSHClient()\n",
    "    ssh.set_missing_host_key_policy(paramiko.AutoAddPolicy)\n",
    "    ssh.connect(host, port, username, password)\n",
    "\n",
    "except paramiko.AuthenticationException:\n",
    "    print(\"Authentication Failed\")"
   ]
  },
  {
   "cell_type": "markdown",
   "metadata": {},
   "source": [
    "## Check Directory"
   ]
  },
  {
   "cell_type": "code",
   "execution_count": 2,
   "metadata": {},
   "outputs": [
    {
     "name": "stdout",
     "output_type": "stream",
     "text": [
      "['/home/paul.gleason\\n']\n"
     ]
    }
   ],
   "source": [
    "stdin, stdout, stderr = ssh.exec_command('pwd')\n",
    "print(stdout.readlines())"
   ]
  },
  {
   "cell_type": "markdown",
   "metadata": {},
   "source": [
    "## Place kraken file and verify it's in the right location with ls"
   ]
  },
  {
   "cell_type": "code",
   "execution_count": 3,
   "metadata": {},
   "outputs": [
    {
     "name": "stdout",
     "output_type": "stream",
     "text": [
      "['kraken\\n']\n"
     ]
    }
   ],
   "source": [
    "sftp = ssh.open_sftp()\n",
    "\n",
    "ssh.exec_command('cd /home/paul.gleason/')\n",
    "\n",
    "sftp.put('kraken', 'kraken') \n",
    "\n",
    "stdin, stdout, stderr = ssh.exec_command('ls')\n",
    "print(stdout.readlines())\n"
   ]
  },
  {
   "cell_type": "markdown",
   "metadata": {},
   "source": [
    "## Run kraken file and write output to kraken.txt"
   ]
  },
  {
   "cell_type": "code",
   "execution_count": 9,
   "metadata": {},
   "outputs": [
    {
     "name": "stdout",
     "output_type": "stream",
     "text": [
      "519423\n",
      "561559\n"
     ]
    }
   ],
   "source": [
    "if os.path.exists('kraken.txt'):\n",
    "    usrinput = input(\"Would you like to delete this file? (Y/N) \")\n",
    "    if usrinput == \"Y\" or usrinput == \"y\":\n",
    "        os.remove(\"kraken.txt\")\n",
    "\n",
    "thePass = getpass(prompt=\"Please enter your user Password: \")\n",
    "\n",
    "stdin, stdout, stderr = ssh.exec_command(\"sudo -S /home/paul.gleason/kraken --folder /usr/bin --folder /usr/sbin/   --folder /usr/local/bin  --folder /sbin  --folder /usr/local/sbin  --folder /bin\")\n",
    "\n",
    "stdin.write(thePass + \"\\n\")\n",
    "stdin.flush()\n",
    "\n",
    "# for line in stdout.readlines():\n",
    "#     with open('pg.pid', 'a') as f:\n",
    "#         f.write(line)\n",
    "\n",
    "for line in stdout.readlines():\n",
    "    if re.findall(r'.*pid.*', line):\n",
    "        with open('pid.txt', 'a') as f:\n",
    "            f.write(line.split(\" \")[-2].split(\"=\")[-1])\n"
   ]
  },
  {
   "cell_type": "markdown",
   "metadata": {},
   "source": [
    "## lsof -p XXXX"
   ]
  },
  {
   "cell_type": "code",
   "execution_count": null,
   "metadata": {},
   "outputs": [],
   "source": []
  },
  {
   "cell_type": "markdown",
   "metadata": {},
   "source": [
    "## Check \"bin\" directories for malicious files"
   ]
  },
  {
   "cell_type": "code",
   "execution_count": 57,
   "metadata": {},
   "outputs": [],
   "source": [
    "cmds = [\"ls -al -h k /usr/bin/\", \"ls -al -h k /usr/sbin\", \"ls -al -h k /usr/local/bin\", \"ls -al -h k /usr/local/sbin\"]\n",
    "\n",
    "if os.path.exists('bin_results.txt'):\n",
    "    usrinput = input(\"Would you like to delete this file? (Y/N) \")\n",
    "    if usrinput == \"Y\" or usrinput == \"y\":\n",
    "        os.remove(\"bin_results.txt\")\n",
    "\n",
    "for command in cmds:\n",
    "    # Get the outpt form the command\n",
    "    stdin, stdout, stderr = ssh.exec_command(command)\n",
    "\n",
    "    split_lines = []\n",
    "\n",
    "    for line in stdout.readlines():\n",
    "        # print(line.split(' '))\n",
    "        split_lines.append(line.split(' '))\n",
    "        \n",
    "        # Searches and returns results using a regular expression search\n",
    "\n",
    "    files = []\n",
    "    split_command = command.split(' ')\n",
    "\n",
    "    # print(split_lines)\n",
    "    # loop through split_lines\n",
    "    for new_line in split_lines:\n",
    "        # if new_line is longer than 2\n",
    "        if len(new_line) > 2:\n",
    "            # if there is a symlink\n",
    "            if new_line[-2] != '->':\n",
    "                for item in new_line:\n",
    "                    # print(item)\n",
    "                    if '\\n' in item:\n",
    "                        # print(item[0:-2])\n",
    "                        files.append(item[0:-2])\n",
    "                        \n",
    "            else:\n",
    "                # print(new_line[-3])\n",
    "                files.append(new_line[-3])\n",
    "\n",
    "    # for r in files:\n",
    "    #     print(r)\n",
    "\n",
    "\n",
    "    for file in files:\n",
    "        x = re.findall(r'^([a-z]{6,17})$', file)\n",
    "        for found in x:\n",
    "            output = split_command[-1] + found\n",
    "\n",
    "    \n",
    "    # Get results from stdout\n",
    "    # lines = stdout.readlines()\n",
    "    # print(lines)\n",
    "\n",
    "    # Cover the list to a string\n",
    "    # output = ''.join(lines)\n",
    "\n",
    "            # Header output\n",
    "            sepHeader = '' + '### BEGIN ' + command + ' ###\\n\\n'\n",
    "            # Footer\n",
    "            sepFooter = '' + '### END ' + command + ' ###\\n\\n'\n",
    "\n",
    "            # Concatenate the header, output, and footer\n",
    "            cmd_output = sepHeader + output + sepFooter\n",
    "\n",
    "            # Sace the cmd_output to a file\n",
    "            # a is append mode\n",
    "            with open('bin_results.txt', 'a') as f:\n",
    "                f.write(output + '\\n')"
   ]
  },
  {
   "cell_type": "markdown",
   "metadata": {},
   "source": [
    "## Run lsof using sudo"
   ]
  },
  {
   "cell_type": "code",
   "execution_count": 4,
   "metadata": {},
   "outputs": [
    {
     "name": "stdout",
     "output_type": "stream",
     "text": [
      "PID\n",
      "\n",
      "593\n",
      "\n",
      "603\n",
      "\n",
      "603\n",
      "\n",
      "830\n",
      "\n",
      "855\n",
      "\n",
      "855\n",
      "\n",
      "935\n",
      "\n",
      "935\n",
      "\n",
      "561559\n",
      "\n",
      "600020\n",
      "\n",
      "600170\n",
      "\n",
      "600390\n",
      "\n",
      "600489\n",
      "\n",
      "600523\n",
      "\n",
      "600626\n",
      "\n",
      "600716\n",
      "\n",
      "600818\n",
      "\n",
      "600854\n",
      "\n",
      "600947\n",
      "\n",
      "600952\n",
      "\n",
      "601052\n",
      "\n",
      "601067\n",
      "\n",
      "601169\n",
      "\n",
      "601242\n",
      "\n",
      "601357\n",
      "\n",
      "601383\n",
      "\n",
      "601485\n",
      "\n",
      "601534\n",
      "\n",
      "601633\n",
      "\n",
      "601653\n",
      "\n",
      "601752\n",
      "\n",
      "601759\n",
      "\n",
      "601861\n",
      "\n",
      "601881\n",
      "\n",
      "601977\n",
      "\n",
      "601982\n",
      "\n",
      "602084\n",
      "\n",
      "602108\n",
      "\n",
      "602204\n",
      "\n",
      "602220\n",
      "\n",
      "602318\n",
      "\n",
      "602330\n",
      "\n",
      "602429\n",
      "\n",
      "602470\n",
      "\n",
      "602568\n",
      "\n",
      "602604\n",
      "\n",
      "602705\n",
      "\n",
      "602900\n",
      "\n",
      "603028\n",
      "\n",
      "603036\n",
      "\n",
      "603134\n",
      "\n",
      "603758\n",
      "\n",
      "603871\n",
      "\n",
      "604366\n",
      "\n",
      "604465\n",
      "\n"
     ]
    }
   ],
   "source": [
    "thePass = getpass(prompt=\"Please enter your user Password: \")\n",
    "\n",
    "stdin, stdout, stderr = ssh.exec_command(\"sudo -S lsof -i -n | awk '{print $2}'\")\n",
    "stdin.write(thePass + \"\\n\")\n",
    "stdin.flush()\n",
    "\n",
    "for line in stdout.readlines():\n",
    "    for _ in range(1):\n",
    "        print(line)"
   ]
  },
  {
   "cell_type": "markdown",
   "metadata": {},
   "source": [
    "## LS p.datlon Folder"
   ]
  },
  {
   "cell_type": "code",
   "execution_count": 7,
   "metadata": {},
   "outputs": [
    {
     "name": "stdout",
     "output_type": "stream",
     "text": [
      "aqwerpuqwerj\n",
      "\n",
      "d.pid\n",
      "\n",
      "test-lk\n",
      "\n"
     ]
    }
   ],
   "source": [
    "stdin, stdout, stderr = ssh.exec_command(\"ls /home/p.dalton\")\n",
    "\n",
    "for line in stdout.readlines():\n",
    "    print(line)"
   ]
  },
  {
   "cell_type": "markdown",
   "metadata": {},
   "source": [
    "## Close connection"
   ]
  },
  {
   "cell_type": "code",
   "execution_count": 5,
   "metadata": {},
   "outputs": [],
   "source": [
    "ssh.close()"
   ]
  },
  {
   "cell_type": "markdown",
   "metadata": {},
   "source": [
    "## Reflections\n",
    "\n",
    "### Based on what you discovered and the information in the threat report, what is your conclusion about the host you analyzed?\n",
    "\n",
    "### What did you like the most and least about this assignment?\n",
    "\n",
    "### What additional questions do you have?\n"
   ]
  }
 ],
 "metadata": {
  "kernelspec": {
   "display_name": "Python 3.10.6 64-bit",
   "language": "python",
   "name": "python3"
  },
  "language_info": {
   "codemirror_mode": {
    "name": "ipython",
    "version": 3
   },
   "file_extension": ".py",
   "mimetype": "text/x-python",
   "name": "python",
   "nbconvert_exporter": "python",
   "pygments_lexer": "ipython3",
   "version": "3.10.6"
  },
  "orig_nbformat": 4,
  "vscode": {
   "interpreter": {
    "hash": "26de051ba29f2982a8de78e945f0abaf191376122a1563185a90213a26c5da77"
   }
  }
 },
 "nbformat": 4,
 "nbformat_minor": 2
}
