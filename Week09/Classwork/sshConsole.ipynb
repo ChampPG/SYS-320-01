{
 "cells": [
  {
   "cell_type": "code",
   "execution_count": 11,
   "metadata": {},
   "outputs": [],
   "source": [
    "import paramiko\n",
    "from getpass import getpass\n",
    "\n",
    "# Create the passwd prompt\n",
    "thePass = getpass(prompt=\"Please enter your SSH Password: \")\n",
    "\n",
    "\n",
    "# Host Information\n",
    "host = \"192.168.6.71\"\n",
    "port = 2222\n",
    "username = \"paul.gleason\"\n",
    "password = thePass\n",
    "\n",
    "try:\n",
    "    ssh = paramiko.SSHClient()\n",
    "    ssh.set_missing_host_key_policy(paramiko.AutoAddPolicy)\n",
    "    ssh.connect(host, port, username, password)\n",
    "\n",
    "except paramiko.AuthenticationException:\n",
    "    print(\"Authentication Failed\")"
   ]
  },
  {
   "cell_type": "code",
   "execution_count": 19,
   "metadata": {},
   "outputs": [
    {
     "name": "stdout",
     "output_type": "stream",
     "text": [
      "['/home/paul.gleason\\n']\n"
     ]
    }
   ],
   "source": [
    "stdin, stdout, stderr = ssh.exec_command('pwd')\n",
    "print(stdout.readlines())"
   ]
  },
  {
   "cell_type": "code",
   "execution_count": 20,
   "metadata": {},
   "outputs": [
    {
     "name": "stdout",
     "output_type": "stream",
     "text": [
      "['kraken\\n']\n"
     ]
    }
   ],
   "source": [
    "sftp = ssh.open_sftp()\n",
    "\n",
    "ssh.exec_command('cd /home/ubuntu/')\n",
    "\n",
    "sftp.put('kraken', 'kraken') \n",
    "\n",
    "stdin, stdout, stderr = ssh.exec_command('ls')\n",
    "print(stdout.readlines())\n"
   ]
  },
  {
   "cell_type": "code",
   "execution_count": 22,
   "metadata": {},
   "outputs": [
    {
     "ename": "TypeError",
     "evalue": "write() argument must be str, not list",
     "output_type": "error",
     "traceback": [
      "\u001b[1;31m---------------------------------------------------------------------------\u001b[0m",
      "\u001b[1;31mTypeError\u001b[0m                                 Traceback (most recent call last)",
      "\u001b[1;32mc:\\Users\\paul.gleason\\Documents\\SYS-320\\SYS-320-01\\Week09\\Classwork\\sshConsole.ipynb Cell 4\u001b[0m in \u001b[0;36m<cell line: 3>\u001b[1;34m()\u001b[0m\n\u001b[0;32m      <a href='vscode-notebook-cell:/c%3A/Users/paul.gleason/Documents/SYS-320/SYS-320-01/Week09/Classwork/sshConsole.ipynb#W5sZmlsZQ%3D%3D?line=0'>1</a>\u001b[0m stdin, stdout, stderr \u001b[39m=\u001b[39m ssh\u001b[39m.\u001b[39mexec_command(\u001b[39m\"\u001b[39m\u001b[39m/home/ubuntu/kraken --folder /usr/bin --folder  --folder /usr/sbin/   --folder /usr/local/bin  --folder /sbin  --folder /usr/local/sbin  --folder /bin\u001b[39m\u001b[39m\"\u001b[39m)\n\u001b[0;32m      <a href='vscode-notebook-cell:/c%3A/Users/paul.gleason/Documents/SYS-320/SYS-320-01/Week09/Classwork/sshConsole.ipynb#W5sZmlsZQ%3D%3D?line=2'>3</a>\u001b[0m \u001b[39mwith\u001b[39;00m \u001b[39mopen\u001b[39m(\u001b[39m'\u001b[39m\u001b[39mkraken.txt\u001b[39m\u001b[39m'\u001b[39m, \u001b[39m'\u001b[39m\u001b[39ma\u001b[39m\u001b[39m'\u001b[39m) \u001b[39mas\u001b[39;00m f:\n\u001b[1;32m----> <a href='vscode-notebook-cell:/c%3A/Users/paul.gleason/Documents/SYS-320/SYS-320-01/Week09/Classwork/sshConsole.ipynb#W5sZmlsZQ%3D%3D?line=3'>4</a>\u001b[0m     f\u001b[39m.\u001b[39;49mwrite(stdout\u001b[39m.\u001b[39;49mreadlines())\n",
      "\u001b[1;31mTypeError\u001b[0m: write() argument must be str, not list"
     ]
    }
   ],
   "source": [
    "stdin, stdout, stderr = ssh.exec_command(\"/home/ubuntu/kraken --folder /usr/bin --folder  --folder /usr/sbin/   --folder /usr/local/bin  --folder /sbin  --folder /usr/local/sbin  --folder /bin\")\n",
    "\n",
    "for line in stdout.readlines():\n",
    "    with open('kraken.txt', 'a') as f:\n",
    "        f.write(line)"
   ]
  },
  {
   "cell_type": "code",
   "execution_count": 10,
   "metadata": {},
   "outputs": [],
   "source": [
    "ssh.close()"
   ]
  }
 ],
 "metadata": {
  "kernelspec": {
   "display_name": "Python 3.10.6 64-bit",
   "language": "python",
   "name": "python3"
  },
  "language_info": {
   "codemirror_mode": {
    "name": "ipython",
    "version": 3
   },
   "file_extension": ".py",
   "mimetype": "text/x-python",
   "name": "python",
   "nbconvert_exporter": "python",
   "pygments_lexer": "ipython3",
   "version": "3.10.6"
  },
  "orig_nbformat": 4,
  "vscode": {
   "interpreter": {
    "hash": "26de051ba29f2982a8de78e945f0abaf191376122a1563185a90213a26c5da77"
   }
  }
 },
 "nbformat": 4,
 "nbformat_minor": 2
}
