{
 "cells": [
  {
   "cell_type": "markdown",
   "metadata": {},
   "source": [
    "## Make connection"
   ]
  },
  {
   "cell_type": "code",
   "execution_count": 2,
   "metadata": {},
   "outputs": [],
   "source": [
    "import paramiko, os\n",
    "from getpass import getpass\n",
    "\n",
    "# Create the passwd prompt\n",
    "thePass = getpass(prompt=\"Please enter your SSH Password: \")\n",
    "\n",
    "\n",
    "# Host Information\n",
    "host = \"192.168.6.71\"\n",
    "port = 2222\n",
    "username = \"paul.gleason\"\n",
    "password = thePass\n",
    "\n",
    "try:\n",
    "    ssh = paramiko.SSHClient()\n",
    "    ssh.set_missing_host_key_policy(paramiko.AutoAddPolicy)\n",
    "    ssh.connect(host, port, username, password)\n",
    "\n",
    "except paramiko.AuthenticationException:\n",
    "    print(\"Authentication Failed\")"
   ]
  },
  {
   "cell_type": "markdown",
   "metadata": {},
   "source": [
    "## Check Directory"
   ]
  },
  {
   "cell_type": "code",
   "execution_count": 19,
   "metadata": {},
   "outputs": [
    {
     "name": "stdout",
     "output_type": "stream",
     "text": [
      "['/home/paul.gleason\\n']\n"
     ]
    }
   ],
   "source": [
    "stdin, stdout, stderr = ssh.exec_command('pwd')\n",
    "print(stdout.readlines())"
   ]
  },
  {
   "cell_type": "markdown",
   "metadata": {},
   "source": [
    "## Place kraken file and verify it's in the right location with ls"
   ]
  },
  {
   "cell_type": "code",
   "execution_count": 20,
   "metadata": {},
   "outputs": [
    {
     "name": "stdout",
     "output_type": "stream",
     "text": [
      "['kraken\\n']\n"
     ]
    }
   ],
   "source": [
    "sftp = ssh.open_sftp()\n",
    "\n",
    "ssh.exec_command('cd /home/ubuntu/')\n",
    "\n",
    "sftp.put('kraken', 'kraken') \n",
    "\n",
    "stdin, stdout, stderr = ssh.exec_command('ls')\n",
    "print(stdout.readlines())\n"
   ]
  },
  {
   "cell_type": "markdown",
   "metadata": {},
   "source": [
    "## Run kraken file and write output to kraken.txt"
   ]
  },
  {
   "cell_type": "code",
   "execution_count": 3,
   "metadata": {},
   "outputs": [],
   "source": [
    "if os.path.exists('kraken.txt'):\n",
    "    usrinput = input(\"Would you like to delete this file? (Y/N) \")\n",
    "    if usrinput == \"Y\" or usrinput == \"y\":\n",
    "        os.remove(\"kraken.txt\")\n",
    "\n",
    "thePass = getpass(prompt=\"Please enter your user Password: \")\n",
    "\n",
    "stdin, stdout, stderr = ssh.exec_command(\"sudo -S /home/ubuntu/kraken --folder /usr/bin --folder /usr/sbin/   --folder /usr/local/bin  --folder /sbin  --folder /usr/local/sbin  --folder /bin\")\n",
    "\n",
    "stdin.write(thePass + \"\\n\")\n",
    "stdin.flush()\n",
    "\n",
    "for line in stdout.readlines():\n",
    "    with open('kraken.txt', 'a') as f:\n",
    "        f.write(line)"
   ]
  },
  {
   "cell_type": "markdown",
   "metadata": {},
   "source": [
    "## Check \"bin\" directories for malicious files"
   ]
  },
  {
   "cell_type": "code",
   "execution_count": null,
   "metadata": {},
   "outputs": [],
   "source": [
    "cmds = [\"ls -al -h k /usr/bin/\", \"ls -al -h k /usr/sbin\", \"ls -al -h k /usr/local/bin\", \"ls -al -h k /usr/local/sbin\"]\n",
    "\n",
    "if os.path.exists('bin_results.txt'):\n",
    "    usrinput = input(\"Would you like to delete this file? (Y/N) \")\n",
    "    if usrinput == \"Y\" or usrinput == \"y\":\n",
    "        os.remove(\"bin_results.txt\")\n",
    "\n",
    "for command in cmds:\n",
    "    # Get the outpt form the command\n",
    "    stdin, stdout, stderr = ssh.exec_command(command)\n",
    "\n",
    "    # Get results from stdout\n",
    "    lines = stdout.readlines()\n",
    "    print(lines)\n",
    "\n",
    "    # Cover the list to a string\n",
    "    output = ''.join(lines)\n",
    "\n",
    "    # Header output\n",
    "    sepHeader = '' + '### BEGIN ' + command + ' ###\\n\\n'\n",
    "    # Footer\n",
    "    sepFooter = '' + '### END ' + command + ' ###\\n\\n'\n",
    "\n",
    "    # Concatenate the header, output, and footer\n",
    "    cmd_output = sepHeader + output + sepFooter\n",
    "\n",
    "    # Sace the cmd_output to a file\n",
    "    # a is append mode\n",
    "    with open('bin_results.txt', 'a') as f:\n",
    "        f.write(cmd_output)"
   ]
  },
  {
   "cell_type": "markdown",
   "metadata": {},
   "source": [
    "## Run lsof using sudo"
   ]
  },
  {
   "cell_type": "code",
   "execution_count": null,
   "metadata": {},
   "outputs": [],
   "source": [
    "thePass = getpass(prompt=\"Please enter your user Password: \")\n",
    "\n",
    "stdin, stdout, stderr = ssh.exec_command(\"sudo -S lsof -i -n\")\n",
    "stdin.write(thePass + \"\\n\")\n",
    "stdin.flush()\n",
    "\n",
    "for line in stdout.readlines():\n",
    "    print(line)"
   ]
  },
  {
   "cell_type": "markdown",
   "metadata": {},
   "source": [
    "## Close connection"
   ]
  },
  {
   "cell_type": "code",
   "execution_count": 1,
   "metadata": {},
   "outputs": [
    {
     "ename": "NameError",
     "evalue": "name 'ssh' is not defined",
     "output_type": "error",
     "traceback": [
      "\u001b[1;31m---------------------------------------------------------------------------\u001b[0m",
      "\u001b[1;31mNameError\u001b[0m                                 Traceback (most recent call last)",
      "\u001b[1;32mc:\\Users\\paul.gleason\\Documents\\SYS-320\\SYS-320-01\\Week09\\Classwork\\sshConsole.ipynb Cell 14\u001b[0m in \u001b[0;36m<cell line: 1>\u001b[1;34m()\u001b[0m\n\u001b[1;32m----> <a href='vscode-notebook-cell:/c%3A/Users/paul.gleason/Documents/SYS-320/SYS-320-01/Week09/Classwork/sshConsole.ipynb#X16sZmlsZQ%3D%3D?line=0'>1</a>\u001b[0m ssh\u001b[39m.\u001b[39mclose()\n",
      "\u001b[1;31mNameError\u001b[0m: name 'ssh' is not defined"
     ]
    }
   ],
   "source": [
    "ssh.close()"
   ]
  },
  {
   "cell_type": "markdown",
   "metadata": {},
   "source": [
    "## Reflections\n",
    "\n",
    "### Based on what you discovered and the information in the threat report, what is your conclusion about the host you analyzed?\n",
    "\n",
    "### What did you like the most and least about this assignment?\n",
    "\n",
    "### What additional questions do you have?\n"
   ]
  }
 ],
 "metadata": {
  "kernelspec": {
   "display_name": "Python 3.10.6 64-bit",
   "language": "python",
   "name": "python3"
  },
  "language_info": {
   "codemirror_mode": {
    "name": "ipython",
    "version": 3
   },
   "file_extension": ".py",
   "mimetype": "text/x-python",
   "name": "python",
   "nbconvert_exporter": "python",
   "pygments_lexer": "ipython3",
   "version": "3.10.6"
  },
  "orig_nbformat": 4,
  "vscode": {
   "interpreter": {
    "hash": "26de051ba29f2982a8de78e945f0abaf191376122a1563185a90213a26c5da77"
   }
  }
 },
 "nbformat": 4,
 "nbformat_minor": 2
}
