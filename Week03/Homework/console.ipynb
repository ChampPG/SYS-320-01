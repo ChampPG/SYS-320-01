{
 "cells": [
  {
   "cell_type": "markdown",
   "metadata": {},
   "source": [
    "# URLHAUS"
   ]
  },
  {
   "cell_type": "code",
   "execution_count": 1,
   "metadata": {},
   "outputs": [
    {
     "data": {
      "text/plain": [
       "<module 'urlHaus' from 'c:\\\\Users\\\\blue2\\\\OneDrive\\\\Documents\\\\Coding\\\\SYS-320-01-New\\\\SYS-320-01\\\\Week03\\\\Classwork\\\\urlHaus.py'>"
      ]
     },
     "execution_count": 1,
     "metadata": {},
     "output_type": "execute_result"
    }
   ],
   "source": [
    "import urlHaus as u\n",
    "import importlib\n",
    "importlib.reload(u)\n"
   ]
  },
  {
   "cell_type": "markdown",
   "metadata": {},
   "source": [
    "## Part 2 questions\n",
    "\n",
    "### URL to csv documation\n",
    "I use python 3.10.7\n",
    "https://docs.python.org/3/library/csv.html\n",
    "\n",
    "### What option is used if the default delimiter is not a comma?\n",
    "csv.writer(csvfile, delimiter='{insert_delimiter_char}'\n",
    "\n",
    "### In a CSV file that uses a comma as a delimiter, there may be a field with a comma within it.  What option does Python provide to escape the comma within the text of a field so it is differentiated with the comma as a field delimiter?\n",
    "\n",
    "quotechar\n",
    "\n",
    "csv.reader(csvfile, delimiter=' ', quotechar='|')\n",
    "\n",
    "### What is the purpose of heredocs in Python?\n",
    "\n",
    "here docs for Here Document is a way to keep all of line atrabuties (white spaces, etc..) and still get your chosen output. For python on of the most popular ways to do here docs is with .format.\n",
    "\n",
    "print(\"\"\"\\\n",
    "thing1: {}\n",
    "thing2: {}\n",
    "\"\"\").format({var1},{var2})"
   ]
  },
  {
   "cell_type": "markdown",
   "metadata": {},
   "source": [
    "## Classwork test"
   ]
  },
  {
   "cell_type": "code",
   "execution_count": 2,
   "metadata": {},
   "outputs": [
    {
     "name": "stdout",
     "output_type": "stream",
     "text": [
      "\n",
      "                    URL: hxxps://imagingworld.edu/.win32.exe\n",
      "                    Info: malware_download\n",
      "                    ************************************************************\n",
      "\n",
      "                    URL: hxxp://pinkstravels.com/locals.php\n",
      "                    Info: malware_download\n",
      "                    ************************************************************\n",
      "\n",
      "                    URL: hxxps://pinkstravels.com/locals.php\n",
      "                    Info: malware_download\n",
      "                    ************************************************************\n"
     ]
    }
   ],
   "source": [
    "u.urlHausOpen('../../logs/urlHausTestDataSet.csv', ['.php', '.win32'])"
   ]
  },
  {
   "cell_type": "markdown",
   "metadata": {},
   "source": [
    "## Search for any domains that contain .edu and .gov."
   ]
  },
  {
   "cell_type": "code",
   "execution_count": null,
   "metadata": {},
   "outputs": [],
   "source": [
    "u.urlHausOpen('../../logs/urlHaus.csv', ['.edu', '.gov'])"
   ]
  },
  {
   "cell_type": "markdown",
   "metadata": {},
   "source": [
    "## Search for any domains that contain .win32.exe"
   ]
  },
  {
   "cell_type": "code",
   "execution_count": null,
   "metadata": {},
   "outputs": [],
   "source": [
    "u.urlHausOpen('../../logs/urlHaus.csv', '.win32')"
   ]
  },
  {
   "cell_type": "markdown",
   "metadata": {},
   "source": [
    "## Additional information"
   ]
  },
  {
   "cell_type": "markdown",
   "metadata": {},
   "source": [
    "\"1991789\",\"2022-01-20 08:29:06\",\"hxxp://103.89.90.10/intel(R)/.win32.exe\",\"online\",\"None\",\"malware_download\",\"exe,Loki,opendir\",\"https://urlhaus.abuse.ch/url/1991789/\",\"abuse_ch\"\n",
    "\n",
    "This is a peice of malware which is emulating intels driver packages.\n",
    "\n"
   ]
  },
  {
   "cell_type": "markdown",
   "metadata": {},
   "source": [
    "## What did you like the most and least about this assignment?"
   ]
  },
  {
   "cell_type": "markdown",
   "metadata": {},
   "source": [
    "I didn't like that my console would crash if I tried to use urlHaus :(\n",
    "\n",
    "I did really enjoy being give a broken piece of code. I didn't realize how much of my code knowledge just relies on formatting."
   ]
  },
  {
   "cell_type": "markdown",
   "metadata": {},
   "source": [
    "## What additional questions do you have?"
   ]
  },
  {
   "cell_type": "markdown",
   "metadata": {},
   "source": [
    "NA"
   ]
  }
 ],
 "metadata": {
  "kernelspec": {
   "display_name": "Python 3.10.7 64-bit (microsoft store)",
   "language": "python",
   "name": "python3"
  },
  "language_info": {
   "codemirror_mode": {
    "name": "ipython",
    "version": 3
   },
   "file_extension": ".py",
   "mimetype": "text/x-python",
   "name": "python",
   "nbconvert_exporter": "python",
   "pygments_lexer": "ipython3",
   "version": "3.10.8"
  },
  "orig_nbformat": 4,
  "vscode": {
   "interpreter": {
    "hash": "f6a356b385419397ca6e99785919c9328feaa3d12198a6d48b23342ebdf78beb"
   }
  }
 },
 "nbformat": 4,
 "nbformat_minor": 2
}
