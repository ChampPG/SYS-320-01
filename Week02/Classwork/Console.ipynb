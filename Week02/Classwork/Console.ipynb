{
 "cells": [
  {
   "cell_type": "code",
   "execution_count": 4,
   "metadata": {},
   "outputs": [
    {
     "ename": "ModuleNotFoundError",
     "evalue": "No module named 'yaml'",
     "output_type": "error",
     "traceback": [
      "\u001b[1;31m---------------------------------------------------------------------------\u001b[0m",
      "\u001b[1;31mModuleNotFoundError\u001b[0m                       Traceback (most recent call last)",
      "\u001b[1;32mc:\\Users\\paul.gleason\\Documents\\SYS-320\\SYS-320-01\\Week02\\Classwork\\Console.ipynb Cell 1\u001b[0m in \u001b[0;36m<cell line: 1>\u001b[1;34m()\u001b[0m\n\u001b[1;32m----> <a href='vscode-notebook-cell:/c%3A/Users/paul.gleason/Documents/SYS-320/SYS-320-01/Week02/Classwork/Console.ipynb#W0sZmlsZQ%3D%3D?line=0'>1</a>\u001b[0m \u001b[39mimport\u001b[39;00m \u001b[39msyslogSSH\u001b[39;00m\n\u001b[0;32m      <a href='vscode-notebook-cell:/c%3A/Users/paul.gleason/Documents/SYS-320/SYS-320-01/Week02/Classwork/Console.ipynb#W0sZmlsZQ%3D%3D?line=1'>2</a>\u001b[0m \u001b[39mimport\u001b[39;00m \u001b[39mimportlib\u001b[39;00m\n\u001b[0;32m      <a href='vscode-notebook-cell:/c%3A/Users/paul.gleason/Documents/SYS-320/SYS-320-01/Week02/Classwork/Console.ipynb#W0sZmlsZQ%3D%3D?line=2'>3</a>\u001b[0m importlib\u001b[39m.\u001b[39mreload(syslogSSH)\n",
      "File \u001b[1;32mc:\\Users\\paul.gleason\\Documents\\SYS-320\\SYS-320-01\\Week02\\Classwork\\syslogSSH.py:1\u001b[0m, in \u001b[0;36m<module>\u001b[1;34m\u001b[0m\n\u001b[1;32m----> 1\u001b[0m \u001b[39mimport\u001b[39;00m \u001b[39msyslogCheck\u001b[39;00m\n\u001b[0;32m      2\u001b[0m \u001b[39mimport\u001b[39;00m \u001b[39mimportlib\u001b[39;00m\n\u001b[0;32m      3\u001b[0m importlib\u001b[39m.\u001b[39mreload(syslogCheck)\n",
      "File \u001b[1;32mc:\\Users\\paul.gleason\\Documents\\SYS-320\\SYS-320-01\\Week02\\Classwork\\syslogCheck.py:2\u001b[0m, in \u001b[0;36m<module>\u001b[1;34m\u001b[0m\n\u001b[0;32m      1\u001b[0m \u001b[39m# Create and interface to search through syslog files\u001b[39;00m\n\u001b[1;32m----> 2\u001b[0m \u001b[39mimport\u001b[39;00m \u001b[39mre\u001b[39;00m\u001b[39m,\u001b[39m \u001b[39msys\u001b[39;00m\u001b[39m,\u001b[39m \u001b[39myaml\u001b[39;00m\n\u001b[0;32m      4\u001b[0m \u001b[39m# Open the Yaml file\u001b[39;00m\n\u001b[0;32m      5\u001b[0m \u001b[39mtry\u001b[39;00m:\n",
      "\u001b[1;31mModuleNotFoundError\u001b[0m: No module named 'yaml'"
     ]
    }
   ],
   "source": [
    "import syslogSSH\n",
    "import importlib\n",
    "importlib.reload(syslogSSH)"
   ]
  },
  {
   "cell_type": "markdown",
   "metadata": {},
   "source": [
    "# Review system logs"
   ]
  },
  {
   "cell_type": "markdown",
   "metadata": {},
   "source": [
    "### SSH Authentication Failure domains"
   ]
  },
  {
   "cell_type": "code",
   "execution_count": 10,
   "metadata": {},
   "outputs": [
    {
     "name": "stdout",
     "output_type": "stream",
     "text": [
      "rhost=218.188.2.4\n",
      "rhost=220-135-151-1.hinet-ip.hinet.net\n"
     ]
    }
   ],
   "source": [
    "syslogSSH.ssh_fail('../../logs/smallSyslog.log',['sshd\\(pam_unix\\).*authentication failure.*'])"
   ]
  },
  {
   "cell_type": "markdown",
   "metadata": {},
   "source": [
    "### SU Open"
   ]
  },
  {
   "cell_type": "code",
   "execution_count": 11,
   "metadata": {},
   "outputs": [
    {
     "name": "stdout",
     "output_type": "stream",
     "text": [
      "cyrus\n",
      "news\n"
     ]
    }
   ],
   "source": [
    "syslogSU.su_open('../../logs/smallSyslog.log',['su\\(pam_unix\\).*session opened for user.*'])"
   ]
  },
  {
   "cell_type": "markdown",
   "metadata": {},
   "source": [
    "### FTP Connections"
   ]
  },
  {
   "cell_type": "code",
   "execution_count": 12,
   "metadata": {},
   "outputs": [
    {
     "name": "stdout",
     "output_type": "stream",
     "text": [
      "211.167.68.59\n",
      "211.72.2.106\n",
      "83.116.207.11\n",
      "217.187.83.50\n",
      "62.99.164.82\n",
      "82.252.162.81\n",
      "210.223.97.117\n",
      "82.68.222.195\n",
      "211.42.188.206\n",
      "24.54.76.216\n",
      "206.47.209.10\n",
      "82.68.222.194\n",
      "218.38.58.3\n",
      "67.95.49.172\n",
      "208.62.55.75\n",
      "217.187.83.139\n",
      "218.69.108.57\n",
      "202.82.200.188\n",
      "81.171.220.226\n",
      "203.101.45.59\n",
      "61.74.96.178\n",
      "211.72.151.162\n",
      "84.102.20.2\n",
      "220.94.205.45\n",
      "63.197.98.106\n",
      "82.83.227.67\n",
      "211.57.88.250\n",
      "172.181.208.156\n",
      "206.196.21.129\n",
      "207.30.238.8\n",
      "218.146.61.230\n",
      "222.33.90.199\n",
      "216.12.111.241\n",
      "221.4.102.93\n",
      "211.107.232.1\n",
      "210.245.165.136\n",
      "212.65.68.82\n",
      "210.118.170.95\n"
     ]
    }
   ],
   "source": [
    "syslogFTPConnection.ftp_connection('../../logs/Linux_2k.log',['ftpd.*connection from.*'])"
   ]
  }
 ],
 "metadata": {
  "kernelspec": {
   "display_name": "Python 3.10.6 64-bit",
   "language": "python",
   "name": "python3"
  },
  "language_info": {
   "codemirror_mode": {
    "name": "ipython",
    "version": 3
   },
   "file_extension": ".py",
   "mimetype": "text/x-python",
   "name": "python",
   "nbconvert_exporter": "python",
   "pygments_lexer": "ipython3",
   "version": "3.10.6"
  },
  "orig_nbformat": 4,
  "vscode": {
   "interpreter": {
    "hash": "26de051ba29f2982a8de78e945f0abaf191376122a1563185a90213a26c5da77"
   }
  }
 },
 "nbformat": 4,
 "nbformat_minor": 2
}
