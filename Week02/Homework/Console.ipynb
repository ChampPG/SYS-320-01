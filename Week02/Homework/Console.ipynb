{
 "cells": [
  {
   "cell_type": "code",
   "execution_count": 1,
   "metadata": {},
   "outputs": [
    {
     "data": {
      "text/plain": [
       "<module 'proxyLog' from 'c:\\\\Users\\\\blue2\\\\OneDrive\\\\Documents\\\\Coding\\\\SYS-320-01-New\\\\SYS-320-01\\\\Week02\\\\Homework\\\\proxyLog.py'>"
      ]
     },
     "execution_count": 1,
     "metadata": {},
     "output_type": "execute_result"
    }
   ],
   "source": [
    "import proxyLog\n",
    "import importlib\n",
    "importlib.reload(proxyLog)"
   ]
  },
  {
   "cell_type": "markdown",
   "metadata": {},
   "source": [
    "## Apache/Proxy Log Events\n"
   ]
  },
  {
   "cell_type": "markdown",
   "metadata": {},
   "source": [
    "### Proxy Log Events"
   ]
  },
  {
   "cell_type": "code",
   "execution_count": 2,
   "metadata": {},
   "outputs": [
    {
     "name": "stdout",
     "output_type": "stream",
     "text": [
      "QQ.exe 183.60.49.182:443 open proxy.cse.cuhk.edu.hk:5070\n",
      "QQ.exe tcpconn.tencent.com:80 open proxy.cse.cuhk.edu.hk:5070\n",
      "QQ.exe tcpconn3.tencent.com:443 open proxy.cse.cuhk.edu.hk:5070\n",
      "QQ.exe tcpconn6.tencent.com:443 open proxy.cse.cuhk.edu.hk:5070\n",
      "QQ.exe tcpconn6.tencent.com:80 open proxy.cse.cuhk.edu.hk:5070\n"
     ]
    }
   ],
   "source": [
    "proxyLog.proxy_open('../../logs/Proxifier_2k.log', 'proxy', 'open')"
   ]
  },
  {
   "cell_type": "code",
   "execution_count": 3,
   "metadata": {},
   "outputs": [
    {
     "name": "stdout",
     "output_type": "stream",
     "text": [
      "QQ.exe tcpconn.tencent.com:80 133 bytes sent, 0 bytes received,\n",
      "QQ.exe tcpconn3.tencent.com:443 149 bytes sent, 121 bytes received,\n",
      "QQ.exe tcpconn3.tencent.com:80 0 bytes sent, 0 bytes received,\n",
      "QQ.exe tcpconn6.tencent.com:443 0 bytes sent, 0 bytes received,\n",
      "QQ.exe tcpconn6.tencent.com:80 0 bytes sent, 0 bytes received,\n",
      "QQExternal.exe proxy.cse.cuhk.edu.hk:5070 1644 bytes sent, 388 bytes received,\n"
     ]
    }
   ],
   "source": [
    "proxyLog.proxy_closed('../../logs/Proxifier_2k.log', 'proxy', 'closed')"
   ]
  },
  {
   "cell_type": "markdown",
   "metadata": {},
   "source": [
    "## Apache Log Events"
   ]
  },
  {
   "cell_type": "code",
   "execution_count": 4,
   "metadata": {},
   "outputs": [
    {
     "data": {
      "text/plain": [
       "<module 'apacheLog' from 'c:\\\\Users\\\\blue2\\\\OneDrive\\\\Documents\\\\Coding\\\\SYS-320-01-New\\\\SYS-320-01\\\\Week02\\\\Homework\\\\apacheLog.py'>"
      ]
     },
     "execution_count": 4,
     "metadata": {},
     "output_type": "execute_result"
    }
   ],
   "source": [
    "import apacheLog\n",
    "import importlib\n",
    "importlib.reload(apacheLog)"
   ]
  },
  {
   "cell_type": "markdown",
   "metadata": {},
   "source": [
    "### Apache PHP"
   ]
  },
  {
   "cell_type": "code",
   "execution_count": 5,
   "metadata": {},
   "outputs": [
    {
     "name": "stdout",
     "output_type": "stream",
     "text": [
      "404 GET /wordpress/wp-login.php\n",
      "404 GET /mediawiki/index.php?title=Main_Page\n"
     ]
    }
   ],
   "source": [
    "apacheLog.apache_events('../../logs/access.log', 'apache', 'php')"
   ]
  },
  {
   "cell_type": "markdown",
   "metadata": {},
   "source": [
    "### Apache CGI"
   ]
  },
  {
   "cell_type": "code",
   "execution_count": 6,
   "metadata": {},
   "outputs": [
    {
     "name": "stdout",
     "output_type": "stream",
     "text": [
      "404 POST /cgi-bin/test-cgi\n",
      "404 GET /cgi-bin/test-cgi\n",
      "404 GET /cgi-bin/htsearch?Exclude=%60/etc/passwd%60\n"
     ]
    }
   ],
   "source": [
    "apacheLog.apache_events('../../logs/access.log', 'apache', 'cgi')"
   ]
  },
  {
   "cell_type": "markdown",
   "metadata": {},
   "source": [
    "SUBMISSION\n",
    "\n",
    "1. Direct link to your homework folder for this assignment\n",
    "\n",
    "    https://github.com/ChampPG/SYS-320-01/tree/main/Week02/Homework \n",
    "\n",
    "2. Link to your video of the solution working. (Please NOTE that the submission box has an option to allow you to record.)\n",
    "\n",
    "    https://drive.google.com/file/d/1lluRDm8hwewWFggggF4tr2HUyf3BGo64/view?usp=sharing \n",
    "\n",
    "3. Response to the following (can be in video, written in the text entry, or some folks wrote it in their Markdown cell.\n",
    "\n",
    "    a. What is your interpretation of the results that you discovered (Did the files match known threat intell information?  Was there activity to and from the same remote host?)\n",
    "\n",
    "        I forgot to add I did get rid of set() because I felt I would want see the amount of times a specific proxy is opened even if it's a duplicate\n",
    "\n",
    "    b. What did you like the most and least about this assignment? NOTE: These help me understand how to improve on assignments and know what is working.)\n",
    "\n",
    "\n",
    "    c. What additional questions do you have about this week's material?"
   ]
  }
 ],
 "metadata": {
  "kernelspec": {
   "display_name": "Python 3.10.7 64-bit (microsoft store)",
   "language": "python",
   "name": "python3"
  },
  "language_info": {
   "codemirror_mode": {
    "name": "ipython",
    "version": 3
   },
   "file_extension": ".py",
   "mimetype": "text/x-python",
   "name": "python",
   "nbconvert_exporter": "python",
   "pygments_lexer": "ipython3",
   "version": "3.10.7"
  },
  "orig_nbformat": 4,
  "vscode": {
   "interpreter": {
    "hash": "f6a356b385419397ca6e99785919c9328feaa3d12198a6d48b23342ebdf78beb"
   }
  }
 },
 "nbformat": 4,
 "nbformat_minor": 2
}
