{
 "cells": [
  {
   "cell_type": "code",
   "execution_count": 65,
   "metadata": {},
   "outputs": [
    {
     "data": {
      "text/plain": [
       "<module 'proxyLog' from 'c:\\\\Users\\\\paul.gleason\\\\Documents\\\\SYS-320\\\\SYS-320-01\\\\Week02\\\\Homework\\\\proxyLog.py'>"
      ]
     },
     "execution_count": 65,
     "metadata": {},
     "output_type": "execute_result"
    }
   ],
   "source": [
    "import proxyLog\n",
    "import importlib\n",
    "importlib.reload(proxyLog)"
   ]
  },
  {
   "cell_type": "markdown",
   "metadata": {},
   "source": [
    "### Apache/Proxy Log Events\n"
   ]
  },
  {
   "cell_type": "code",
   "execution_count": 66,
   "metadata": {},
   "outputs": [
    {
     "name": "stdout",
     "output_type": "stream",
     "text": [
      "['QQ.exe', '-', '183.60.49.182:443', 'open', 'through', 'proxy', 'proxy.cse.cuhk.edu.hk:5070', 'HTTPS']\n",
      "['QQ.exe', '-', 'cgi.qqweb.qq.com:80', 'open', 'through', 'proxy', 'proxy.cse.cuhk.edu.hk:5070', 'HTTPS']\n",
      "['QQ.exe', '-', 'tcpconn.tencent.com:80', 'open', 'through', 'proxy', 'proxy.cse.cuhk.edu.hk:5070', 'HTTPS']\n",
      "['QQ.exe', '-', 'tcpconn3.tencent.com:443', 'open', 'through', 'proxy', 'proxy.cse.cuhk.edu.hk:5070', 'HTTPS']\n",
      "['QQ.exe', '-', 'tcpconn6.tencent.com:443', 'open', 'through', 'proxy', 'proxy.cse.cuhk.edu.hk:5070', 'HTTPS']\n",
      "['QQ.exe', '-', 'tcpconn6.tencent.com:80', 'open', 'through', 'proxy', 'proxy.cse.cuhk.edu.hk:5070', 'HTTPS']\n",
      "['QQPlayer.exe', '-', 'btrace.qq.com:80', 'open', 'through', 'proxy', 'proxy.cse.cuhk.edu.hk:5070', 'HTTPS']\n",
      "['QQPlayer.exe', '-', 'btrace.qq.com:80', 'open', 'through', 'proxy', 'proxy.cse.cuhk.edu.hk:5070', 'HTTPS']\n",
      "['QQProtectUpd.exe', '-', 'qdun-data.qq.com:443', 'open', 'through', 'proxy', 'proxy.cse.cuhk.edu.hk:5070', 'HTTPS']\n",
      "QQ.exe tcpconn.tencent.com:80 open through proxy\n",
      "QQProtectUpd.exe open through proxy proxy.cse.cuhk.edu.hk:5070\n",
      "QQ.exe tcpconn6.tencent.com:80 open through proxy\n",
      "QQ.exe tcpconn6.tencent.com:443 open through proxy\n",
      "QQ.exe open through proxy proxy.cse.cuhk.edu.hk:5070\n",
      "QQ.exe 183.60.49.182:443 open through proxy\n",
      "QQPlayer.exe open through proxy proxy.cse.cuhk.edu.hk:5070\n",
      "QQ.exe tcpconn3.tencent.com:443 open through proxy\n"
     ]
    }
   ],
   "source": [
    "proxyLog.proxy_events('../../logs/Proxifier_2k.log', 'proxy', 'open')"
   ]
  },
  {
   "cell_type": "code",
   "execution_count": 67,
   "metadata": {},
   "outputs": [
    {
     "name": "stdout",
     "output_type": "stream",
     "text": [
      "['QQ.exe', '-', '2052.flash2-http.qq.com:80', 'close,', '466', 'bytes', 'sent']\n",
      "['QQ.exe', '-', 'cgi.qqweb.qq.com:80', 'close,', '477', 'bytes', 'sent']\n",
      "['QQ.exe', '-', 'qqmail.tencent.com:80', 'close,', '336', 'bytes', 'sent']\n",
      "['QQ.exe', '-', 'showxml.qq.com:80', 'close,', '600', 'bytes', 'sent']\n",
      "['QQ.exe', '-', 'tcpconn.tencent.com:80', 'close,', '133', 'bytes', 'sent']\n",
      "['QQ.exe', '-', 'tcpconn3.tencent.com:443', 'close,', '149', 'bytes', 'sent']\n",
      "['QQ.exe', '-', 'tcpconn3.tencent.com:80', 'close,', '0', 'bytes', 'sent']\n",
      "['QQ.exe', '-', 'tcpconn6.tencent.com:443', 'close,', '0', 'bytes', 'sent']\n",
      "['QQ.exe', '-', 'tcpconn6.tencent.com:80', 'close,', '0', 'bytes', 'sent']\n",
      "['QQProtectUpd.exe', '-', 'qdun-data.qq.com:443', 'close,', '261', 'bytes', 'sent']\n",
      "0 bytes\n",
      "149 bytes\n",
      "133 bytes\n",
      "bytes sent\n"
     ]
    }
   ],
   "source": [
    "proxyLog.proxy_events('../../logs/Proxifier_2k.log', 'proxy', 'bytes')"
   ]
  },
  {
   "cell_type": "markdown",
   "metadata": {},
   "source": [
    "SUBMISSION\n",
    "\n",
    "1. Direct link to your homework folder for this assignment\n",
    "\n",
    "2. Link to your video of the solution working. (Please NOTE that the submission box has an option to allow you to record.)\n",
    "\n",
    "3. Response to the following (can be in video, written in the text entry, or some folks wrote it in their Markdown cell.\n",
    "\n",
    "What is your interpretation of the results that you discovered (Did the files match known threat intell information?  Was there activity to and from the same remote host?)\n",
    "\n",
    "What did you like the most and least about this assignment? NOTE: These help me understand how to improve on assignments and know what is working.)\n",
    "\n",
    "What additional questions do you have about this week's material?"
   ]
  }
 ],
 "metadata": {
  "kernelspec": {
   "display_name": "Python 3.10.6 64-bit",
   "language": "python",
   "name": "python3"
  },
  "language_info": {
   "codemirror_mode": {
    "name": "ipython",
    "version": 3
   },
   "file_extension": ".py",
   "mimetype": "text/x-python",
   "name": "python",
   "nbconvert_exporter": "python",
   "pygments_lexer": "ipython3",
   "version": "3.10.6"
  },
  "orig_nbformat": 4,
  "vscode": {
   "interpreter": {
    "hash": "26de051ba29f2982a8de78e945f0abaf191376122a1563185a90213a26c5da77"
   }
  }
 },
 "nbformat": 4,
 "nbformat_minor": 2
}
